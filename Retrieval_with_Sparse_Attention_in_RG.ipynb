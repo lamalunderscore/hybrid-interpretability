{
  "cells": [
    {
      "cell_type": "code",
      "execution_count": null,
      "metadata": {},
      "outputs": [],
      "source": [
        "# for Colab use\n",
        "\n",
        "# ! git clone https://github.com/stevenabreu7/hybrid-interpretability\n",
        "# ! cd hybrid-interpretability\n",
        "# ! bash install.sh"
      ]
    },
    {
      "cell_type": "code",
      "execution_count": null,
      "metadata": {
        "colab": {
          "base_uri": "https://localhost:8080/",
          "height": 301,
          "referenced_widgets": [
            "399696d17fdf40fb8d3fd379d863c258",
            "feb31574f0004a06b06632c66b15e285",
            "f15fce77293a437ea081df14de7f511a",
            "ae92cbfeecef445d88adfe856d6261db",
            "27f74d38086e4f3583c47b6d7bdd5076",
            "aaf76bd7447044c78e7e8dda11c62072",
            "88de34a7ce2945ceb5a8ccf190853117",
            "da49ed29a76149c3b000e48609c2d0af",
            "96e3e1b8c8404db19346858c077f4ab6",
            "909005680848439e9970433448f863b9",
            "df073ac7cfdc40269b61f1e3b0369a6c",
            "f603ec2da3db4bf3873c59ae0a870ba1",
            "85e4736500af45ee9acfc8fb50d2a0ef",
            "fe7e260243ba4ce58b32169be0f78440",
            "071de37987524e128307e6157d133f2a",
            "75df1a8430e34a28baf902ec5a51ddd5",
            "b195301f5754442fa426cce0e6240b2e"
          ]
        },
        "id": "K5Gp3q3GoZ2F",
        "outputId": "5a713b83-ec5f-4fd5-b81c-c7a2047c8abd"
      },
      "outputs": [],
      "source": [
        "import kagglehub\n",
        "import os\n",
        "\n",
        "kagglehub.login()"
      ]
    },
    {
      "cell_type": "code",
      "execution_count": null,
      "metadata": {
        "colab": {
          "base_uri": "https://localhost:8080/",
          "height": 1000,
          "referenced_widgets": [
            "b15b22047bd94859985b33be76547d4c",
            "147d2955857740f187b0f3cfd020e6b5",
            "073e5e713dc244bca561778cff94af8b",
            "42737f181a304e94bfaa8021b270522a",
            "bad80bbf959e4e659b0cc48405beca4c",
            "7d8622e7461c4cb88fe7af422c6c188f",
            "0b45efc3df144620ab22bb76fc68600b",
            "88d9e77a8cb449e891116fa741698bbc",
            "ee993518764b4a01980d19fd9fb5812a",
            "7b58ada5132d453783b3fd06578b19cf",
            "8236912d3d174a5c92f001d70fb9a7e6"
          ]
        },
        "collapsed": true,
        "id": "AZChtt8OoZ2H",
        "outputId": "0b8469f6-91b8-41ea-f95f-85005d5eb5d2"
      },
      "outputs": [],
      "source": [
        "# import model weights\n",
        "\n",
        "google_recurrentgemma_pytorch_2b_it_1_path = kagglehub.model_download('google/recurrentgemma/PyTorch/2b/1')"
      ]
    },
    {
      "cell_type": "markdown",
      "metadata": {
        "id": "1bCVMxMVNpBn"
      },
      "source": [
        "## Installation"
      ]
    },
    {
      "cell_type": "code",
      "execution_count": null,
      "metadata": {
        "cellView": "form",
        "id": "tF4W_TTINpBn"
      },
      "outputs": [],
      "source": [
        "#@title Imports\n",
        "import pathlib\n",
        "import torch\n",
        "\n",
        "import sentencepiece as spm\n",
        "from recurrentgemma import torch as recurrentgemma\n",
        "\n",
        "device = \"cuda\" if torch.cuda.is_available() else \"cpu\""
      ]
    },
    {
      "cell_type": "code",
      "execution_count": null,
      "metadata": {
        "id": "EDvYwCs8qnBL"
      },
      "outputs": [],
      "source": [
        "google_recurrentgemma_pytorch_2b_it_1_path=\"/root/.cache/kagglehub/models/google/recurrentgemma/PyTorch/2b/1\""
      ]
    },
    {
      "cell_type": "code",
      "execution_count": null,
      "metadata": {
        "id": "aB-4v2sQNpBn"
      },
      "outputs": [],
      "source": [
        "VARIANT = '2b'\n",
        "weights_dir = pathlib.Path(f\"{google_recurrentgemma_pytorch_2b_it_1_path}\")\n",
        "ckpt_path = weights_dir / f'{VARIANT}.pt'\n",
        "vocab_path = weights_dir / 'tokenizer.model'\n",
        "preset = recurrentgemma.Preset.RECURRENT_GEMMA_2B_V1 if '2b' in VARIANT else recurrentgemma.Preset.RECURRENT_GEMMA_9B_V1"
      ]
    },
    {
      "cell_type": "markdown",
      "metadata": {
        "id": "HNwfa_7M1HcM"
      },
      "source": [
        "### Load and prepare RG"
      ]
    },
    {
      "cell_type": "code",
      "execution_count": null,
      "metadata": {
        "colab": {
          "base_uri": "https://localhost:8080/"
        },
        "id": "m_2NisxHNpBn",
        "outputId": "9d2c3c35-ab79-4a40-ee19-732ad6778b43"
      },
      "outputs": [
        {
          "name": "stderr",
          "output_type": "stream",
          "text": [
            "<ipython-input-5-3ea271273971>:2: FutureWarning: You are using `torch.load` with `weights_only=False` (the current default value), which uses the default pickle module implicitly. It is possible to construct malicious pickle data which will execute arbitrary code during unpickling (See https://github.com/pytorch/pytorch/blob/main/SECURITY.md#untrusted-models for more details). In a future release, the default value for `weights_only` will be flipped to `True`. This limits the functions that could be executed during unpickling. Arbitrary objects will no longer be allowed to be loaded via this mode unless they are explicitly allowlisted by the user via `torch.serialization.add_safe_globals`. We recommend you start setting `weights_only=True` for any use case where you don't have full control of the loaded file. Please open an issue on GitHub for any issues related to this experimental feature.\n",
            "  params = torch.load(str(ckpt_path))\n"
          ]
        }
      ],
      "source": [
        "# Load parameters\n",
        "params = torch.load(str(ckpt_path))\n",
        "params = {k : v.to(device=device) for k, v in params.items()}"
      ]
    },
    {
      "cell_type": "code",
      "execution_count": null,
      "metadata": {
        "colab": {
          "base_uri": "https://localhost:8080/"
        },
        "id": "aBAcfETaNpBn",
        "outputId": "489dde76-8855-44ba-c0c0-21909c1c20b1"
      },
      "outputs": [
        {
          "data": {
            "text/plain": [
              "<All keys matched successfully>"
            ]
          },
          "execution_count": 6,
          "metadata": {},
          "output_type": "execute_result"
        }
      ],
      "source": [
        "model_config = recurrentgemma.GriffinConfig.from_torch_params(\n",
        "    params,\n",
        "    preset=preset,\n",
        ")\n",
        "model = recurrentgemma.Griffin(model_config, device=device, dtype=torch.bfloat16)\n",
        "model.load_state_dict(params)"
      ]
    },
    {
      "cell_type": "code",
      "execution_count": null,
      "metadata": {
        "id": "GzJVu9n7sSEf"
      },
      "outputs": [],
      "source": [
        "model.enable_sparsification(k = 3, metric = \"entropy\", prefill = False)"
      ]
    },
    {
      "cell_type": "code",
      "execution_count": null,
      "metadata": {
        "colab": {
          "base_uri": "https://localhost:8080/"
        },
        "id": "R25QSS_xNpBn",
        "outputId": "cf793138-dd23-459a-db37-7e741e11af9e"
      },
      "outputs": [
        {
          "data": {
            "text/plain": [
              "True"
            ]
          },
          "execution_count": 8,
          "metadata": {},
          "output_type": "execute_result"
        }
      ],
      "source": [
        "vocab = spm.SentencePieceProcessor()\n",
        "vocab.Load(str(vocab_path))"
      ]
    },
    {
      "cell_type": "code",
      "execution_count": null,
      "metadata": {
        "id": "6ps-2B-SNpBn"
      },
      "outputs": [],
      "source": [
        "sampler = recurrentgemma.Sampler(model=model, vocab=vocab)"
      ]
    },
    {
      "cell_type": "markdown",
      "metadata": {
        "id": "CIhAeXkU1Juw"
      },
      "source": [
        "### generate"
      ]
    },
    {
      "cell_type": "code",
      "execution_count": null,
      "metadata": {
        "colab": {
          "base_uri": "https://localhost:8080/"
        },
        "id": "oq6yK9yTNpBn",
        "outputId": "e73bf6bb-bfdd-455c-b218-2cb6b20b327a"
      },
      "outputs": [
        {
          "name": "stdout",
          "output_type": "stream",
          "text": [
            "Prompt:\n",
            "I once had a girl, or should I say, she once had  \n",
            "Output:\n",
            "me.\n",
            "\n",
            "I was a young girl, a young girl, a young girl, a young girl, a young girl, a young girl, a\n",
            "##########\n"
          ]
        }
      ],
      "source": [
        "input_batch = [\"I once had a girl, or should I say, she once had  \"]\n",
        "\n",
        "# 30 generation steps\n",
        "out_data = sampler(input_strings=input_batch, total_generation_steps=30)\n",
        "\n",
        "for input_string, out_string in zip(input_batch, out_data.text):\n",
        "  print(f\"Prompt:\\n{input_string}\\nOutput:\\n{out_string}\")\n",
        "  print(10*'#')"
      ]
    },
    {
      "cell_type": "markdown",
      "metadata": {
        "id": "CHROpyJctoJy"
      },
      "source": [
        "## Testing attention sparsification"
      ]
    },
    {
      "cell_type": "code",
      "execution_count": null,
      "metadata": {
        "colab": {
          "base_uri": "https://localhost:8080/"
        },
        "id": "YoNwBF7r0igu",
        "outputId": "a9fc1192-ade5-4f21-8377-10f8abf0dbfd"
      },
      "outputs": [
        {
          "name": "stdout",
          "output_type": "stream",
          "text": [
            "Prompt:\n",
            "I once had a girl, or should I say, she once had  \n",
            "Output:\n",
            "me.\n",
            "\n",
            "I was a young man, a young man with a lot of potential. I was a young man with a lot of potential, and\n",
            "##########\n"
          ]
        }
      ],
      "source": [
        "input_batch = [\"I once had a girl, or should I say, she once had \"]\n",
        "\n",
        "model.disable_attention_manipulation()\n",
        "model.enable_sparsification(k = 3, metric = \"entropy\", prefill = False)\n",
        "\n",
        "# 30 generation steps\n",
        "out_data = sampler(input_strings=input_batch, total_generation_steps=30)\n",
        "\n",
        "for input_string, out_string in zip(input_batch, out_data.text):\n",
        "  print(f\"Prompt:\\n{input_string}\\nOutput:\\n{out_string}\")\n",
        "  print(10*'#')"
      ]
    },
    {
      "cell_type": "markdown",
      "metadata": {
        "id": "P0yDf23Z6HIF"
      },
      "source": [
        "##NIAH"
      ]
    },
    {
      "cell_type": "markdown",
      "metadata": {
        "id": "F0Brn7Hag4zw"
      },
      "source": [
        "###Loading NIAH"
      ]
    },
    {
      "cell_type": "code",
      "execution_count": null,
      "metadata": {
        "colab": {
          "base_uri": "https://localhost:8080/"
        },
        "id": "xb4xse1a_l-C",
        "outputId": "39568ca1-727d-48fd-b1cb-4ba26df5276f"
      },
      "outputs": [
        {
          "name": "stdout",
          "output_type": "stream",
          "text": [
            "/content\n"
          ]
        }
      ],
      "source": [
        "%cd /content/"
      ]
    },
    {
      "cell_type": "code",
      "execution_count": null,
      "metadata": {
        "colab": {
          "base_uri": "https://localhost:8080/"
        },
        "collapsed": true,
        "id": "eEBSzGZvBTNu",
        "outputId": "b01982aa-7875-4b96-c413-d714b3bb717d"
      },
      "outputs": [],
      "source": [
        "!pip install flash-attn --no-build-isolation"
      ]
    },
    {
      "cell_type": "code",
      "execution_count": null,
      "metadata": {
        "id": "ZV-aIqJaAvVB"
      },
      "outputs": [],
      "source": [
        "!pwd"
      ]
    },
    {
      "cell_type": "code",
      "execution_count": null,
      "metadata": {
        "colab": {
          "base_uri": "https://localhost:8080/"
        },
        "collapsed": true,
        "id": "I1v7-SYHcGrH",
        "outputId": "f0cad0d9-0df1-44f0-d375-7ef6f773d5aa"
      },
      "outputs": [],
      "source": [
        "!pip install python-dotenv tiktoken anthropic"
      ]
    },
    {
      "cell_type": "code",
      "execution_count": null,
      "metadata": {
        "colab": {
          "base_uri": "https://localhost:8080/"
        },
        "collapsed": true,
        "id": "M2-crXvvza32",
        "outputId": "e0972e7b-a90e-4604-9d9b-dbcc8cf34ae4"
      },
      "outputs": [
        {
          "name": "stdout",
          "output_type": "stream",
          "text": [
            "📝 Loading configuration...\n",
            "🔧 Creating Prompter instance...\n",
            "🚀 Initializing Prompter...\n",
            "📁 Haystack directory: LongAlign/Needle_test/PaulGrahamEssays\n",
            "💾 Save directory: LongAlign/Needle_test/prompts\n",
            "⚙️ Setting up context lengths...\n",
            "✅ Context lengths set: [ 250  677 1105 1532 1959 2387 2814 3241 3669 4096]\n",
            "⚙️ Setting up document depth percentages...\n",
            "✅ Depth percentages set: [  0  11  22  33  44  56  67  78  89 100]\n",
            "🔄 Initializing Huggingface tokenizer...\n",
            "🤗 Initializing HuggingFace tokenizer...\n",
            "🌐 Loading tokenizer from HuggingFace Hub: models/recurrent_gemma_default\n",
            "❌ HuggingFace tokenizer initialization failed: models/recurrent_gemma_default is not a local folder and is not a valid model identifier listed on 'https://huggingface.co/models'\n",
            "If this is a private repository, make sure to pass a token having permission to this repo either by logging in with `huggingface-cli login` or by passing `token=<your_token>`\n",
            "❌ Tokenizer initialization failed: models/recurrent_gemma_default is not a local folder and is not a valid model identifier listed on 'https://huggingface.co/models'\n",
            "If this is a private repository, make sure to pass a token having permission to this repo either by logging in with `huggingface-cli login` or by passing `token=<your_token>`\n",
            "🚨 Error initializing Prompter: models/recurrent_gemma_default is not a local folder and is not a valid model identifier listed on 'https://huggingface.co/models'\n",
            "If this is a private repository, make sure to pass a token having permission to this repo either by logging in with `huggingface-cli login` or by passing `token=<your_token>`\n"
          ]
        }
      ],
      "source": [
        "from google.colab import userdata\n",
        "os.environ['HF_TOKEN'] = userdata.get('HF_TOKEN')\n",
        "!python NIAH/Needle_test/prompt.py"
      ]
    },
    {
      "cell_type": "markdown",
      "metadata": {
        "id": "e6GwPi7ohBEa"
      },
      "source": [
        "###Run predictions"
      ]
    },
    {
      "cell_type": "code",
      "execution_count": null,
      "metadata": {
        "colab": {
          "background_save": true,
          "base_uri": "https://localhost:8080/"
        },
        "id": "whs_4ThPAZ1F",
        "outputId": "f5b7ade4-5656-4141-d868-eaf095a5e0b3"
      },
      "outputs": [
        {
          "name": "stdout",
          "output_type": "stream",
          "text": [
            "🔹 Loading configuration...\n",
            "🔹 Prompt directory (relative): LongAlign/Needle_test/prompts\n",
            "🔹 Prompt directory (absolute): /content/LongAlign/Needle_test/prompts\n",
            "🔹 Model provider: Huggingface\n",
            "/content/LongAlign/Needle_test/adjusted/pred.py:183: FutureWarning: You are using `torch.load` with `weights_only=False` (the current default value), which uses the default pickle module implicitly. It is possible to construct malicious pickle data which will execute arbitrary code during unpickling (See https://github.com/pytorch/pytorch/blob/main/SECURITY.md#untrusted-models for more details). In a future release, the default value for `weights_only` will be flipped to `True`. This limits the functions that could be executed during unpickling. Arbitrary objects will no longer be allowed to be loaded via this mode unless they are explicitly allowlisted by the user via `torch.serialization.add_safe_globals`. We recommend you start setting `weights_only=True` for any use case where you don't have full control of the loaded file. Please open an issue on GitHub for any issues related to this experimental feature.\n",
            "  params = torch.load(\n",
            "🔹 Looking for prompt files matching pattern: LongAlign/Needle_test/prompts/Huggingface_*_prompts.json\n",
            "🔹 Found 100 matching files\n",
            "📂 Loading prompt file: LongAlign/Needle_test/prompts/Huggingface_250_22_prompts.json\n",
            "🔍 Prompt from LongAlign/Needle_test/prompts/Huggingface_250_22_prompts.json length: 330 chars\n",
            "📂 Loading prompt file: LongAlign/Needle_test/prompts/Huggingface_677_89_prompts.json\n",
            "🔍 Prompt from LongAlign/Needle_test/prompts/Huggingface_677_89_prompts.json length: 2160 chars\n",
            "📂 Loading prompt file: LongAlign/Needle_test/prompts/Huggingface_2387_100_prompts.json\n",
            "🔍 Prompt from LongAlign/Needle_test/prompts/Huggingface_2387_100_prompts.json length: 9718 chars\n",
            "📂 Loading prompt file: LongAlign/Needle_test/prompts/Huggingface_2387_33_prompts.json\n",
            "🔍 Prompt from LongAlign/Needle_test/prompts/Huggingface_2387_33_prompts.json length: 9718 chars\n",
            "📂 Loading prompt file: LongAlign/Needle_test/prompts/Huggingface_1105_89_prompts.json\n",
            "🔍 Prompt from LongAlign/Needle_test/prompts/Huggingface_1105_89_prompts.json length: 3974 chars\n",
            "📂 Loading prompt file: LongAlign/Needle_test/prompts/Huggingface_1532_100_prompts.json\n",
            "🔍 Prompt from LongAlign/Needle_test/prompts/Huggingface_1532_100_prompts.json length: 5905 chars\n",
            "📂 Loading prompt file: LongAlign/Needle_test/prompts/Huggingface_1959_78_prompts.json\n",
            "🔍 Prompt from LongAlign/Needle_test/prompts/Huggingface_1959_78_prompts.json length: 7792 chars\n",
            "📂 Loading prompt file: LongAlign/Needle_test/prompts/Huggingface_2814_100_prompts.json\n",
            "🔍 Prompt from LongAlign/Needle_test/prompts/Huggingface_2814_100_prompts.json length: 11654 chars\n",
            "📂 Loading prompt file: LongAlign/Needle_test/prompts/Huggingface_1105_22_prompts.json\n",
            "🔍 Prompt from LongAlign/Needle_test/prompts/Huggingface_1105_22_prompts.json length: 3974 chars\n",
            "📂 Loading prompt file: LongAlign/Needle_test/prompts/Huggingface_2814_22_prompts.json\n",
            "🔍 Prompt from LongAlign/Needle_test/prompts/Huggingface_2814_22_prompts.json length: 11654 chars\n",
            "📂 Loading prompt file: LongAlign/Needle_test/prompts/Huggingface_1532_67_prompts.json\n",
            "🔍 Prompt from LongAlign/Needle_test/prompts/Huggingface_1532_67_prompts.json length: 5905 chars\n",
            "📂 Loading prompt file: LongAlign/Needle_test/prompts/Huggingface_2387_89_prompts.json\n",
            "🔍 Prompt from LongAlign/Needle_test/prompts/Huggingface_2387_89_prompts.json length: 9718 chars\n",
            "📂 Loading prompt file: LongAlign/Needle_test/prompts/Huggingface_2387_56_prompts.json\n",
            "🔍 Prompt from LongAlign/Needle_test/prompts/Huggingface_2387_56_prompts.json length: 9718 chars\n",
            "📂 Loading prompt file: LongAlign/Needle_test/prompts/Huggingface_2387_67_prompts.json\n",
            "🔍 Prompt from LongAlign/Needle_test/prompts/Huggingface_2387_67_prompts.json length: 9718 chars\n",
            "📂 Loading prompt file: LongAlign/Needle_test/prompts/Huggingface_2814_67_prompts.json\n",
            "🔍 Prompt from LongAlign/Needle_test/prompts/Huggingface_2814_67_prompts.json length: 11654 chars\n",
            "📂 Loading prompt file: LongAlign/Needle_test/prompts/Huggingface_2387_11_prompts.json\n",
            "🔍 Prompt from LongAlign/Needle_test/prompts/Huggingface_2387_11_prompts.json length: 9718 chars\n",
            "📂 Loading prompt file: LongAlign/Needle_test/prompts/Huggingface_3669_67_prompts.json\n",
            "🔍 Prompt from LongAlign/Needle_test/prompts/Huggingface_3669_67_prompts.json length: 15442 chars\n",
            "📂 Loading prompt file: LongAlign/Needle_test/prompts/Huggingface_250_89_prompts.json\n",
            "🔍 Prompt from LongAlign/Needle_test/prompts/Huggingface_250_89_prompts.json length: 330 chars\n",
            "📂 Loading prompt file: LongAlign/Needle_test/prompts/Huggingface_1959_22_prompts.json\n",
            "🔍 Prompt from LongAlign/Needle_test/prompts/Huggingface_1959_22_prompts.json length: 7792 chars\n",
            "📂 Loading prompt file: LongAlign/Needle_test/prompts/Huggingface_3669_56_prompts.json\n",
            "🔍 Prompt from LongAlign/Needle_test/prompts/Huggingface_3669_56_prompts.json length: 15442 chars\n",
            "📂 Loading prompt file: LongAlign/Needle_test/prompts/Huggingface_677_0_prompts.json\n",
            "🔍 Prompt from LongAlign/Needle_test/prompts/Huggingface_677_0_prompts.json length: 2160 chars\n",
            "📂 Loading prompt file: LongAlign/Needle_test/prompts/Huggingface_677_67_prompts.json\n",
            "🔍 Prompt from LongAlign/Needle_test/prompts/Huggingface_677_67_prompts.json length: 2160 chars\n",
            "📂 Loading prompt file: LongAlign/Needle_test/prompts/Huggingface_4096_44_prompts.json\n",
            "🔍 Prompt from LongAlign/Needle_test/prompts/Huggingface_4096_44_prompts.json length: 17258 chars\n",
            "📂 Loading prompt file: LongAlign/Needle_test/prompts/Huggingface_677_33_prompts.json\n",
            "🔍 Prompt from LongAlign/Needle_test/prompts/Huggingface_677_33_prompts.json length: 2160 chars\n",
            "📂 Loading prompt file: LongAlign/Needle_test/prompts/Huggingface_1532_33_prompts.json\n",
            "🔍 Prompt from LongAlign/Needle_test/prompts/Huggingface_1532_33_prompts.json length: 5905 chars\n",
            "📂 Loading prompt file: LongAlign/Needle_test/prompts/Huggingface_3669_100_prompts.json\n",
            "🔍 Prompt from LongAlign/Needle_test/prompts/Huggingface_3669_100_prompts.json length: 15442 chars\n",
            "📂 Loading prompt file: LongAlign/Needle_test/prompts/Huggingface_1532_44_prompts.json\n",
            "🔍 Prompt from LongAlign/Needle_test/prompts/Huggingface_1532_44_prompts.json length: 5905 chars\n",
            "📂 Loading prompt file: LongAlign/Needle_test/prompts/Huggingface_677_78_prompts.json\n",
            "🔍 Prompt from LongAlign/Needle_test/prompts/Huggingface_677_78_prompts.json length: 2160 chars\n",
            "📂 Loading prompt file: LongAlign/Needle_test/prompts/Huggingface_3241_0_prompts.json\n",
            "🔍 Prompt from LongAlign/Needle_test/prompts/Huggingface_3241_0_prompts.json length: 13527 chars\n",
            "📂 Loading prompt file: LongAlign/Needle_test/prompts/Huggingface_1532_78_prompts.json\n",
            "🔍 Prompt from LongAlign/Needle_test/prompts/Huggingface_1532_78_prompts.json length: 5905 chars\n",
            "📂 Loading prompt file: LongAlign/Needle_test/prompts/Huggingface_2387_22_prompts.json\n",
            "🔍 Prompt from LongAlign/Needle_test/prompts/Huggingface_2387_22_prompts.json length: 9718 chars\n",
            "📂 Loading prompt file: LongAlign/Needle_test/prompts/Huggingface_1105_67_prompts.json\n",
            "🔍 Prompt from LongAlign/Needle_test/prompts/Huggingface_1105_67_prompts.json length: 3974 chars\n",
            "📂 Loading prompt file: LongAlign/Needle_test/prompts/Huggingface_1105_100_prompts.json\n",
            "🔍 Prompt from LongAlign/Needle_test/prompts/Huggingface_1105_100_prompts.json length: 3974 chars\n",
            "📂 Loading prompt file: LongAlign/Needle_test/prompts/Huggingface_1105_56_prompts.json\n",
            "🔍 Prompt from LongAlign/Needle_test/prompts/Huggingface_1105_56_prompts.json length: 3974 chars\n",
            "📂 Loading prompt file: LongAlign/Needle_test/prompts/Huggingface_1532_89_prompts.json\n",
            "🔍 Prompt from LongAlign/Needle_test/prompts/Huggingface_1532_89_prompts.json length: 5905 chars\n",
            "📂 Loading prompt file: LongAlign/Needle_test/prompts/Huggingface_4096_56_prompts.json\n",
            "🔍 Prompt from LongAlign/Needle_test/prompts/Huggingface_4096_56_prompts.json length: 17258 chars\n",
            "📂 Loading prompt file: LongAlign/Needle_test/prompts/Huggingface_4096_100_prompts.json\n",
            "🔍 Prompt from LongAlign/Needle_test/prompts/Huggingface_4096_100_prompts.json length: 17258 chars\n",
            "📂 Loading prompt file: LongAlign/Needle_test/prompts/Huggingface_3241_78_prompts.json\n",
            "🔍 Prompt from LongAlign/Needle_test/prompts/Huggingface_3241_78_prompts.json length: 13527 chars\n",
            "📂 Loading prompt file: LongAlign/Needle_test/prompts/Huggingface_1105_78_prompts.json\n",
            "🔍 Prompt from LongAlign/Needle_test/prompts/Huggingface_1105_78_prompts.json length: 3974 chars\n",
            "📂 Loading prompt file: LongAlign/Needle_test/prompts/Huggingface_3669_22_prompts.json\n",
            "🔍 Prompt from LongAlign/Needle_test/prompts/Huggingface_3669_22_prompts.json length: 15442 chars\n",
            "📂 Loading prompt file: LongAlign/Needle_test/prompts/Huggingface_1959_44_prompts.json\n",
            "🔍 Prompt from LongAlign/Needle_test/prompts/Huggingface_1959_44_prompts.json length: 7792 chars\n",
            "📂 Loading prompt file: LongAlign/Needle_test/prompts/Huggingface_4096_78_prompts.json\n",
            "🔍 Prompt from LongAlign/Needle_test/prompts/Huggingface_4096_78_prompts.json length: 17258 chars\n",
            "📂 Loading prompt file: LongAlign/Needle_test/prompts/Huggingface_4096_33_prompts.json\n",
            "🔍 Prompt from LongAlign/Needle_test/prompts/Huggingface_4096_33_prompts.json length: 17258 chars\n",
            "📂 Loading prompt file: LongAlign/Needle_test/prompts/Huggingface_1105_44_prompts.json\n",
            "🔍 Prompt from LongAlign/Needle_test/prompts/Huggingface_1105_44_prompts.json length: 3974 chars\n",
            "📂 Loading prompt file: LongAlign/Needle_test/prompts/Huggingface_3241_89_prompts.json\n",
            "🔍 Prompt from LongAlign/Needle_test/prompts/Huggingface_3241_89_prompts.json length: 13527 chars\n",
            "📂 Loading prompt file: LongAlign/Needle_test/prompts/Huggingface_250_67_prompts.json\n",
            "🔍 Prompt from LongAlign/Needle_test/prompts/Huggingface_250_67_prompts.json length: 330 chars\n",
            "📂 Loading prompt file: LongAlign/Needle_test/prompts/Huggingface_3669_33_prompts.json\n",
            "🔍 Prompt from LongAlign/Needle_test/prompts/Huggingface_3669_33_prompts.json length: 15442 chars\n",
            "📂 Loading prompt file: LongAlign/Needle_test/prompts/Huggingface_3669_89_prompts.json\n",
            "🔍 Prompt from LongAlign/Needle_test/prompts/Huggingface_3669_89_prompts.json length: 15442 chars\n",
            "📂 Loading prompt file: LongAlign/Needle_test/prompts/Huggingface_3669_11_prompts.json\n",
            "🔍 Prompt from LongAlign/Needle_test/prompts/Huggingface_3669_11_prompts.json length: 15442 chars\n",
            "📂 Loading prompt file: LongAlign/Needle_test/prompts/Huggingface_3241_22_prompts.json\n",
            "🔍 Prompt from LongAlign/Needle_test/prompts/Huggingface_3241_22_prompts.json length: 13527 chars\n",
            "📂 Loading prompt file: LongAlign/Needle_test/prompts/Huggingface_677_22_prompts.json\n",
            "🔍 Prompt from LongAlign/Needle_test/prompts/Huggingface_677_22_prompts.json length: 2160 chars\n",
            "📂 Loading prompt file: LongAlign/Needle_test/prompts/Huggingface_1532_56_prompts.json\n",
            "🔍 Prompt from LongAlign/Needle_test/prompts/Huggingface_1532_56_prompts.json length: 5905 chars\n",
            "📂 Loading prompt file: LongAlign/Needle_test/prompts/Huggingface_3241_100_prompts.json\n",
            "🔍 Prompt from LongAlign/Needle_test/prompts/Huggingface_3241_100_prompts.json length: 13527 chars\n",
            "📂 Loading prompt file: LongAlign/Needle_test/prompts/Huggingface_1959_89_prompts.json\n",
            "🔍 Prompt from LongAlign/Needle_test/prompts/Huggingface_1959_89_prompts.json length: 7792 chars\n",
            "📂 Loading prompt file: LongAlign/Needle_test/prompts/Huggingface_677_44_prompts.json\n",
            "🔍 Prompt from LongAlign/Needle_test/prompts/Huggingface_677_44_prompts.json length: 2160 chars\n",
            "📂 Loading prompt file: LongAlign/Needle_test/prompts/Huggingface_3669_78_prompts.json\n",
            "🔍 Prompt from LongAlign/Needle_test/prompts/Huggingface_3669_78_prompts.json length: 15442 chars\n",
            "📂 Loading prompt file: LongAlign/Needle_test/prompts/Huggingface_3669_44_prompts.json\n",
            "🔍 Prompt from LongAlign/Needle_test/prompts/Huggingface_3669_44_prompts.json length: 15442 chars\n",
            "📂 Loading prompt file: LongAlign/Needle_test/prompts/Huggingface_1959_11_prompts.json\n",
            "🔍 Prompt from LongAlign/Needle_test/prompts/Huggingface_1959_11_prompts.json length: 7792 chars\n",
            "📂 Loading prompt file: LongAlign/Needle_test/prompts/Huggingface_677_56_prompts.json\n",
            "🔍 Prompt from LongAlign/Needle_test/prompts/Huggingface_677_56_prompts.json length: 2160 chars\n",
            "📂 Loading prompt file: LongAlign/Needle_test/prompts/Huggingface_1105_0_prompts.json\n",
            "🔍 Prompt from LongAlign/Needle_test/prompts/Huggingface_1105_0_prompts.json length: 3974 chars\n",
            "📂 Loading prompt file: LongAlign/Needle_test/prompts/Huggingface_250_11_prompts.json\n",
            "🔍 Prompt from LongAlign/Needle_test/prompts/Huggingface_250_11_prompts.json length: 330 chars\n",
            "📂 Loading prompt file: LongAlign/Needle_test/prompts/Huggingface_2387_0_prompts.json\n",
            "🔍 Prompt from LongAlign/Needle_test/prompts/Huggingface_2387_0_prompts.json length: 9718 chars\n",
            "📂 Loading prompt file: LongAlign/Needle_test/prompts/Huggingface_3241_33_prompts.json\n",
            "🔍 Prompt from LongAlign/Needle_test/prompts/Huggingface_3241_33_prompts.json length: 13527 chars\n",
            "📂 Loading prompt file: LongAlign/Needle_test/prompts/Huggingface_4096_22_prompts.json\n",
            "🔍 Prompt from LongAlign/Needle_test/prompts/Huggingface_4096_22_prompts.json length: 17258 chars\n",
            "📂 Loading prompt file: LongAlign/Needle_test/prompts/Huggingface_1532_0_prompts.json\n",
            "🔍 Prompt from LongAlign/Needle_test/prompts/Huggingface_1532_0_prompts.json length: 5905 chars\n",
            "📂 Loading prompt file: LongAlign/Needle_test/prompts/Huggingface_250_78_prompts.json\n",
            "🔍 Prompt from LongAlign/Needle_test/prompts/Huggingface_250_78_prompts.json length: 330 chars\n",
            "📂 Loading prompt file: LongAlign/Needle_test/prompts/Huggingface_2814_89_prompts.json\n",
            "🔍 Prompt from LongAlign/Needle_test/prompts/Huggingface_2814_89_prompts.json length: 11654 chars\n",
            "📂 Loading prompt file: LongAlign/Needle_test/prompts/Huggingface_2387_78_prompts.json\n",
            "🔍 Prompt from LongAlign/Needle_test/prompts/Huggingface_2387_78_prompts.json length: 9718 chars\n",
            "📂 Loading prompt file: LongAlign/Needle_test/prompts/Huggingface_3241_44_prompts.json\n",
            "🔍 Prompt from LongAlign/Needle_test/prompts/Huggingface_3241_44_prompts.json length: 13527 chars\n",
            "📂 Loading prompt file: LongAlign/Needle_test/prompts/Huggingface_250_0_prompts.json\n",
            "🔍 Prompt from LongAlign/Needle_test/prompts/Huggingface_250_0_prompts.json length: 330 chars\n",
            "📂 Loading prompt file: LongAlign/Needle_test/prompts/Huggingface_3241_56_prompts.json\n",
            "🔍 Prompt from LongAlign/Needle_test/prompts/Huggingface_3241_56_prompts.json length: 13527 chars\n",
            "📂 Loading prompt file: LongAlign/Needle_test/prompts/Huggingface_2814_56_prompts.json\n",
            "🔍 Prompt from LongAlign/Needle_test/prompts/Huggingface_2814_56_prompts.json length: 11654 chars\n",
            "📂 Loading prompt file: LongAlign/Needle_test/prompts/Huggingface_1105_33_prompts.json\n",
            "🔍 Prompt from LongAlign/Needle_test/prompts/Huggingface_1105_33_prompts.json length: 3974 chars\n",
            "📂 Loading prompt file: LongAlign/Needle_test/prompts/Huggingface_1959_100_prompts.json\n",
            "🔍 Prompt from LongAlign/Needle_test/prompts/Huggingface_1959_100_prompts.json length: 7792 chars\n",
            "📂 Loading prompt file: LongAlign/Needle_test/prompts/Huggingface_3669_0_prompts.json\n",
            "🔍 Prompt from LongAlign/Needle_test/prompts/Huggingface_3669_0_prompts.json length: 15442 chars\n",
            "📂 Loading prompt file: LongAlign/Needle_test/prompts/Huggingface_677_11_prompts.json\n",
            "🔍 Prompt from LongAlign/Needle_test/prompts/Huggingface_677_11_prompts.json length: 2160 chars\n",
            "📂 Loading prompt file: LongAlign/Needle_test/prompts/Huggingface_2814_11_prompts.json\n",
            "🔍 Prompt from LongAlign/Needle_test/prompts/Huggingface_2814_11_prompts.json length: 11654 chars\n",
            "📂 Loading prompt file: LongAlign/Needle_test/prompts/Huggingface_1532_11_prompts.json\n",
            "🔍 Prompt from LongAlign/Needle_test/prompts/Huggingface_1532_11_prompts.json length: 5905 chars\n",
            "📂 Loading prompt file: LongAlign/Needle_test/prompts/Huggingface_2814_44_prompts.json\n",
            "🔍 Prompt from LongAlign/Needle_test/prompts/Huggingface_2814_44_prompts.json length: 11654 chars\n",
            "📂 Loading prompt file: LongAlign/Needle_test/prompts/Huggingface_677_100_prompts.json\n",
            "🔍 Prompt from LongAlign/Needle_test/prompts/Huggingface_677_100_prompts.json length: 2160 chars\n",
            "📂 Loading prompt file: LongAlign/Needle_test/prompts/Huggingface_1959_56_prompts.json\n",
            "🔍 Prompt from LongAlign/Needle_test/prompts/Huggingface_1959_56_prompts.json length: 7792 chars\n",
            "📂 Loading prompt file: LongAlign/Needle_test/prompts/Huggingface_4096_89_prompts.json\n",
            "🔍 Prompt from LongAlign/Needle_test/prompts/Huggingface_4096_89_prompts.json length: 17258 chars\n",
            "📂 Loading prompt file: LongAlign/Needle_test/prompts/Huggingface_250_44_prompts.json\n",
            "🔍 Prompt from LongAlign/Needle_test/prompts/Huggingface_250_44_prompts.json length: 330 chars\n",
            "📂 Loading prompt file: LongAlign/Needle_test/prompts/Huggingface_250_56_prompts.json\n",
            "🔍 Prompt from LongAlign/Needle_test/prompts/Huggingface_250_56_prompts.json length: 330 chars\n",
            "📂 Loading prompt file: LongAlign/Needle_test/prompts/Huggingface_1532_22_prompts.json\n",
            "🔍 Prompt from LongAlign/Needle_test/prompts/Huggingface_1532_22_prompts.json length: 5905 chars\n",
            "📂 Loading prompt file: LongAlign/Needle_test/prompts/Huggingface_3241_67_prompts.json\n",
            "🔍 Prompt from LongAlign/Needle_test/prompts/Huggingface_3241_67_prompts.json length: 13527 chars\n",
            "📂 Loading prompt file: LongAlign/Needle_test/prompts/Huggingface_1959_33_prompts.json\n",
            "🔍 Prompt from LongAlign/Needle_test/prompts/Huggingface_1959_33_prompts.json length: 7792 chars\n",
            "📂 Loading prompt file: LongAlign/Needle_test/prompts/Huggingface_250_33_prompts.json\n",
            "🔍 Prompt from LongAlign/Needle_test/prompts/Huggingface_250_33_prompts.json length: 330 chars\n",
            "📂 Loading prompt file: LongAlign/Needle_test/prompts/Huggingface_4096_67_prompts.json\n",
            "🔍 Prompt from LongAlign/Needle_test/prompts/Huggingface_4096_67_prompts.json length: 17258 chars\n",
            "📂 Loading prompt file: LongAlign/Needle_test/prompts/Huggingface_2814_78_prompts.json\n",
            "🔍 Prompt from LongAlign/Needle_test/prompts/Huggingface_2814_78_prompts.json length: 11654 chars\n",
            "📂 Loading prompt file: LongAlign/Needle_test/prompts/Huggingface_4096_0_prompts.json\n",
            "🔍 Prompt from LongAlign/Needle_test/prompts/Huggingface_4096_0_prompts.json length: 17258 chars\n",
            "📂 Loading prompt file: LongAlign/Needle_test/prompts/Huggingface_250_100_prompts.json\n",
            "🔍 Prompt from LongAlign/Needle_test/prompts/Huggingface_250_100_prompts.json length: 330 chars\n",
            "📂 Loading prompt file: LongAlign/Needle_test/prompts/Huggingface_2387_44_prompts.json\n",
            "🔍 Prompt from LongAlign/Needle_test/prompts/Huggingface_2387_44_prompts.json length: 9718 chars\n",
            "📂 Loading prompt file: LongAlign/Needle_test/prompts/Huggingface_3241_11_prompts.json\n",
            "🔍 Prompt from LongAlign/Needle_test/prompts/Huggingface_3241_11_prompts.json length: 13527 chars\n",
            "📂 Loading prompt file: LongAlign/Needle_test/prompts/Huggingface_4096_11_prompts.json\n",
            "🔍 Prompt from LongAlign/Needle_test/prompts/Huggingface_4096_11_prompts.json length: 17258 chars\n",
            "📂 Loading prompt file: LongAlign/Needle_test/prompts/Huggingface_1105_11_prompts.json\n",
            "🔍 Prompt from LongAlign/Needle_test/prompts/Huggingface_1105_11_prompts.json length: 3974 chars\n",
            "📂 Loading prompt file: LongAlign/Needle_test/prompts/Huggingface_1959_67_prompts.json\n",
            "🔍 Prompt from LongAlign/Needle_test/prompts/Huggingface_1959_67_prompts.json length: 7792 chars\n",
            "📂 Loading prompt file: LongAlign/Needle_test/prompts/Huggingface_2814_33_prompts.json\n",
            "🔍 Prompt from LongAlign/Needle_test/prompts/Huggingface_2814_33_prompts.json length: 11654 chars\n",
            "📂 Loading prompt file: LongAlign/Needle_test/prompts/Huggingface_2814_0_prompts.json\n",
            "🔍 Prompt from LongAlign/Needle_test/prompts/Huggingface_2814_0_prompts.json length: 11654 chars\n",
            "📂 Loading prompt file: LongAlign/Needle_test/prompts/Huggingface_1959_0_prompts.json\n",
            "🔍 Prompt from LongAlign/Needle_test/prompts/Huggingface_1959_0_prompts.json length: 7792 chars\n",
            "🔍 Total number of prompts: 100\n",
            "🔍 Average prompt length: 8776.00 chars\n",
            "\n",
            "🔹 Processing batch 1/100\n",
            "🔹 Processing ['LongAlign/Needle_test/prompts/Huggingface_250_22_prompts.json']\n",
            "🔍 Input size: 330 characters\n",
            "🔍 Input size: 78 tokens\n",
            "🔍 CUDA memory before batch:\n",
            "Allocated: 10338.31MB\n",
            "['You are a helpful assistant.\\n\\nThe best thing to do in San Francisco is eat a sandwich and sit in Dolores Park on a sunny day.\\nSeptember 2007In high school I decided I was going to study philosophy in college.\\nI had several motives,\\n\\nWhat is the best thing to do in San Francisco? Here is the most relevant sentence in the context:']\n",
            "topk: None\n"
          ]
        }
      ],
      "source": [
        "!CUDA_VISIBLE_DEVICES=0 python NIAH/Needle_test/pred.py"
      ]
    },
    {
      "cell_type": "markdown",
      "metadata": {
        "id": "lXSM1oUdfFLV"
      },
      "source": [
        "###Eval and Viz"
      ]
    },
    {
      "cell_type": "markdown",
      "metadata": {
        "id": "9GSRcww8e_Cv"
      },
      "source": [
        "make sure to set api key before running in eval.py"
      ]
    },
    {
      "cell_type": "code",
      "execution_count": null,
      "metadata": {
        "colab": {
          "base_uri": "https://localhost:8080/"
        },
        "id": "X_0QP5gw53rJ",
        "outputId": "c8961b62-fbc0-4786-cd4a-020416577b1f"
      },
      "outputs": [
        {
          "name": "stdout",
          "output_type": "stream",
          "text": [
            "/content\n"
          ]
        }
      ],
      "source": [
        "%cd /content/"
      ]
    },
    {
      "cell_type": "code",
      "execution_count": null,
      "metadata": {
        "id": "xviPLtltTWff"
      },
      "outputs": [],
      "source": [
        "import subprocess\n",
        "import os\n",
        "from google.colab import userdata\n",
        "my_env = os.environ.copy()\n",
        "hf_token = userdata.get('HF_TOKEN')\n",
        "custom_args = dict(token=hf_token)\n",
        "custom_args = dict(token=hf_token, cache_dir=\"./.cache\")  # speeds up loading\n",
        "my_env[\"CUDA_VISIBLE_DEVICES\"] = \"0\"  # adjust for multi-gpu"
      ]
    },
    {
      "cell_type": "code",
      "execution_count": null,
      "metadata": {
        "colab": {
          "base_uri": "https://localhost:8080/"
        },
        "id": "gOPN5OKld7cC",
        "outputId": "9000b477-5ec1-40e2-88ce-375ce0433e9b"
      },
      "outputs": [
        {
          "name": "stdout",
          "output_type": "stream",
          "text": [
            "Found K values: [0, 1, 2, 10]\n",
            "\n",
            "Evaluation Summary:\n",
            "\n",
            "K0:\n",
            "  Total predictions: 100\n",
            "  Successful predictions: 0\n",
            "  Success rate: 0.00%\n",
            "\n",
            "K1:\n",
            "  Total predictions: 100\n",
            "  Successful predictions: 1\n",
            "  Success rate: 1.00%\n",
            "\n",
            "K2:\n",
            "  Total predictions: 100\n",
            "  Successful predictions: 50\n",
            "  Success rate: 50.00%\n",
            "\n",
            "K10:\n",
            "  Total predictions: 100\n",
            "  Successful predictions: 58\n",
            "  Success rate: 58.00%\n"
          ]
        }
      ],
      "source": [
        "!python NIAH/Needle_test/eval.py"
      ]
    },
    {
      "cell_type": "code",
      "execution_count": null,
      "metadata": {
        "colab": {
          "base_uri": "https://localhost:8080/"
        },
        "id": "njMckjn1fKBd",
        "outputId": "d361f933-cee6-47bb-d7f8-d21e8131320a"
      },
      "outputs": [
        {
          "name": "stdout",
          "output_type": "stream",
          "text": [
            "Found JSON files: ['LongAlign/Needle_test/results/binary_eval_all_k.json']\n",
            "\n",
            "Processing file: LongAlign/Needle_test/results/binary_eval_all_k.json\n",
            "Processing K0\n",
            "Processing K1\n",
            "Processing K2\n",
            "Processing K10\n"
          ]
        }
      ],
      "source": [
        "!python LongAlign/Needle_test/vis.py"
      ]
    },
    {
      "cell_type": "code",
      "execution_count": null,
      "metadata": {
        "id": "7Myak5Gfj52M"
      },
      "outputs": [],
      "source": [
        "!zip -r /content/prompt.zip /content/LongAlign/Needle_test/prompts\n",
        "from google.colab import files\n",
        "files.download(\"/content/PRED/prompt.zip\")"
      ]
    },
    {
      "cell_type": "code",
      "execution_count": null,
      "metadata": {
        "colab": {
          "base_uri": "https://localhost:8080/"
        },
        "id": "wMfz8ZjzacTB",
        "outputId": "5040cb2e-bf4b-4ced-e5a9-47356ed7242a"
      },
      "outputs": [
        {
          "name": "stdout",
          "output_type": "stream",
          "text": [
            "Mounted at /content/drive\n"
          ]
        }
      ],
      "source": [
        "from google.colab import drive\n",
        "drive.mount('/content/drive')"
      ]
    },
    {
      "cell_type": "code",
      "execution_count": null,
      "metadata": {
        "colab": {
          "base_uri": "https://localhost:8080/"
        },
        "id": "lLQnV_Ap5XeZ",
        "outputId": "bf64b515-71dc-461b-b72b-2ad5fc61988e"
      },
      "outputs": [
        {
          "name": "stdout",
          "output_type": "stream",
          "text": [
            "adjusted\t  config-prompt.yaml\t\t    pred_K1\t pred.py     README.md\n",
            "config-eval.yaml  eval.py\t\t\t    pred_K1.zip  prompt.py   vis.py\n",
            "config-pred.yaml  llama_flash_attn_monkey_patch.py  pred_K2\t prompts\n",
            "config_pred.yaml  PaulGrahamEssays\t\t    pred_K2.zip  prompt.zip\n"
          ]
        }
      ],
      "source": [
        "!rm -r pred_K10\n",
        "!ls"
      ]
    },
    {
      "cell_type": "code",
      "execution_count": null,
      "metadata": {
        "id": "D7amdFjSkTfu"
      },
      "outputs": [],
      "source": [
        "!zip -r /content/pred_K1.zip /content/LongAlign/Needle_test/pred_K1\n",
        "files.download(\"/content/pred_K1.zip\")"
      ]
    },
    {
      "cell_type": "code",
      "execution_count": null,
      "metadata": {
        "colab": {
          "base_uri": "https://localhost:8080/",
          "height": 1000
        },
        "id": "gZoE0lP_AyK8",
        "outputId": "a686fbb9-0bdb-47ba-c4a6-e0db9a7dd163"
      },
      "outputs": [],
      "source": [
        "from google.colab import files\n",
        "\n",
        "!zip -r /content/pred_K2.zip /content/LongAlign/Needle_test/pred_K2\n",
        "files.download(\"/content/pred_K2.zip\")"
      ]
    },
    {
      "cell_type": "code",
      "execution_count": null,
      "metadata": {
        "id": "ixVnP_iYVuti"
      },
      "outputs": [],
      "source": [
        "!zip -r /content/results.zip /content/LongAlign/Needle_test/results\n",
        "files.download(\"/content/results.zip\")"
      ]
    }
  ],
  "metadata": {
    "accelerator": "GPU",
    "colab": {
      "collapsed_sections": [
        "CIhAeXkU1Juw",
        "CHROpyJctoJy"
      ],
      "gpuType": "A100",
      "provenance": []
    },
    "kaggle": {
      "accelerator": "gpu",
      "dataSources": [
        {
          "modelId": 21172,
          "modelInstanceId": 15612,
          "sourceId": 26136,
          "sourceType": "modelInstanceVersion"
        }
      ],
      "isGpuEnabled": true,
      "isInternetEnabled": false,
      "language": "python",
      "sourceType": "notebook"
    },
    "kernelspec": {
      "display_name": "Python 3",
      "name": "python3"
    },
    "language_info": {
      "codemirror_mode": {
        "name": "ipython",
        "version": 3
      },
      "file_extension": ".py",
      "mimetype": "text/x-python",
      "name": "python",
      "nbconvert_exporter": "python",
      "pygments_lexer": "ipython3",
      "version": "3.10.12"
    },
    "widgets": {
      "application/vnd.jupyter.widget-state+json": {
        "071de37987524e128307e6157d133f2a": {
          "model_module": "@jupyter-widgets/controls",
          "model_module_version": "1.5.0",
          "model_name": "ButtonStyleModel",
          "state": {
            "_model_module": "@jupyter-widgets/controls",
            "_model_module_version": "1.5.0",
            "_model_name": "ButtonStyleModel",
            "_view_count": null,
            "_view_module": "@jupyter-widgets/base",
            "_view_module_version": "1.2.0",
            "_view_name": "StyleView",
            "button_color": null,
            "font_weight": ""
          }
        },
        "073e5e713dc244bca561778cff94af8b": {
          "model_module": "@jupyter-widgets/controls",
          "model_module_version": "1.5.0",
          "model_name": "FloatProgressModel",
          "state": {
            "_dom_classes": [],
            "_model_module": "@jupyter-widgets/controls",
            "_model_module_version": "1.5.0",
            "_model_name": "FloatProgressModel",
            "_view_count": null,
            "_view_module": "@jupyter-widgets/controls",
            "_view_module_version": "1.5.0",
            "_view_name": "ProgressView",
            "bar_style": "success",
            "description": "",
            "description_tooltip": null,
            "layout": "IPY_MODEL_88d9e77a8cb449e891116fa741698bbc",
            "max": 2,
            "min": 0,
            "orientation": "horizontal",
            "style": "IPY_MODEL_ee993518764b4a01980d19fd9fb5812a",
            "value": 2
          }
        },
        "0b45efc3df144620ab22bb76fc68600b": {
          "model_module": "@jupyter-widgets/controls",
          "model_module_version": "1.5.0",
          "model_name": "DescriptionStyleModel",
          "state": {
            "_model_module": "@jupyter-widgets/controls",
            "_model_module_version": "1.5.0",
            "_model_name": "DescriptionStyleModel",
            "_view_count": null,
            "_view_module": "@jupyter-widgets/base",
            "_view_module_version": "1.2.0",
            "_view_name": "StyleView",
            "description_width": ""
          }
        },
        "147d2955857740f187b0f3cfd020e6b5": {
          "model_module": "@jupyter-widgets/controls",
          "model_module_version": "1.5.0",
          "model_name": "HTMLModel",
          "state": {
            "_dom_classes": [],
            "_model_module": "@jupyter-widgets/controls",
            "_model_module_version": "1.5.0",
            "_model_name": "HTMLModel",
            "_view_count": null,
            "_view_module": "@jupyter-widgets/controls",
            "_view_module_version": "1.5.0",
            "_view_name": "HTMLView",
            "description": "",
            "description_tooltip": null,
            "layout": "IPY_MODEL_7d8622e7461c4cb88fe7af422c6c188f",
            "placeholder": "​",
            "style": "IPY_MODEL_0b45efc3df144620ab22bb76fc68600b",
            "value": "Downloading 2 files: 100%"
          }
        },
        "27f74d38086e4f3583c47b6d7bdd5076": {
          "model_module": "@jupyter-widgets/controls",
          "model_module_version": "1.5.0",
          "model_name": "ButtonModel",
          "state": {
            "_dom_classes": [],
            "_model_module": "@jupyter-widgets/controls",
            "_model_module_version": "1.5.0",
            "_model_name": "ButtonModel",
            "_view_count": null,
            "_view_module": "@jupyter-widgets/controls",
            "_view_module_version": "1.5.0",
            "_view_name": "ButtonView",
            "button_style": "",
            "description": "Login",
            "disabled": false,
            "icon": "",
            "layout": "IPY_MODEL_fe7e260243ba4ce58b32169be0f78440",
            "style": "IPY_MODEL_071de37987524e128307e6157d133f2a",
            "tooltip": ""
          }
        },
        "399696d17fdf40fb8d3fd379d863c258": {
          "model_module": "@jupyter-widgets/controls",
          "model_module_version": "1.5.0",
          "model_name": "VBoxModel",
          "state": {
            "_dom_classes": [],
            "_model_module": "@jupyter-widgets/controls",
            "_model_module_version": "1.5.0",
            "_model_name": "VBoxModel",
            "_view_count": null,
            "_view_module": "@jupyter-widgets/controls",
            "_view_module_version": "1.5.0",
            "_view_name": "VBoxView",
            "box_style": "",
            "children": [
              "IPY_MODEL_feb31574f0004a06b06632c66b15e285",
              "IPY_MODEL_f15fce77293a437ea081df14de7f511a",
              "IPY_MODEL_ae92cbfeecef445d88adfe856d6261db",
              "IPY_MODEL_27f74d38086e4f3583c47b6d7bdd5076",
              "IPY_MODEL_aaf76bd7447044c78e7e8dda11c62072"
            ],
            "layout": "IPY_MODEL_88de34a7ce2945ceb5a8ccf190853117"
          }
        },
        "42737f181a304e94bfaa8021b270522a": {
          "model_module": "@jupyter-widgets/controls",
          "model_module_version": "1.5.0",
          "model_name": "HTMLModel",
          "state": {
            "_dom_classes": [],
            "_model_module": "@jupyter-widgets/controls",
            "_model_module_version": "1.5.0",
            "_model_name": "HTMLModel",
            "_view_count": null,
            "_view_module": "@jupyter-widgets/controls",
            "_view_module_version": "1.5.0",
            "_view_name": "HTMLView",
            "description": "",
            "description_tooltip": null,
            "layout": "IPY_MODEL_7b58ada5132d453783b3fd06578b19cf",
            "placeholder": "​",
            "style": "IPY_MODEL_8236912d3d174a5c92f001d70fb9a7e6",
            "value": " 2/2 [01:22&lt;00:00, 82.40s/it]"
          }
        },
        "75df1a8430e34a28baf902ec5a51ddd5": {
          "model_module": "@jupyter-widgets/base",
          "model_module_version": "1.2.0",
          "model_name": "LayoutModel",
          "state": {
            "_model_module": "@jupyter-widgets/base",
            "_model_module_version": "1.2.0",
            "_model_name": "LayoutModel",
            "_view_count": null,
            "_view_module": "@jupyter-widgets/base",
            "_view_module_version": "1.2.0",
            "_view_name": "LayoutView",
            "align_content": null,
            "align_items": null,
            "align_self": null,
            "border": null,
            "bottom": null,
            "display": null,
            "flex": null,
            "flex_flow": null,
            "grid_area": null,
            "grid_auto_columns": null,
            "grid_auto_flow": null,
            "grid_auto_rows": null,
            "grid_column": null,
            "grid_gap": null,
            "grid_row": null,
            "grid_template_areas": null,
            "grid_template_columns": null,
            "grid_template_rows": null,
            "height": null,
            "justify_content": null,
            "justify_items": null,
            "left": null,
            "margin": null,
            "max_height": null,
            "max_width": null,
            "min_height": null,
            "min_width": null,
            "object_fit": null,
            "object_position": null,
            "order": null,
            "overflow": null,
            "overflow_x": null,
            "overflow_y": null,
            "padding": null,
            "right": null,
            "top": null,
            "visibility": null,
            "width": null
          }
        },
        "7b58ada5132d453783b3fd06578b19cf": {
          "model_module": "@jupyter-widgets/base",
          "model_module_version": "1.2.0",
          "model_name": "LayoutModel",
          "state": {
            "_model_module": "@jupyter-widgets/base",
            "_model_module_version": "1.2.0",
            "_model_name": "LayoutModel",
            "_view_count": null,
            "_view_module": "@jupyter-widgets/base",
            "_view_module_version": "1.2.0",
            "_view_name": "LayoutView",
            "align_content": null,
            "align_items": null,
            "align_self": null,
            "border": null,
            "bottom": null,
            "display": null,
            "flex": null,
            "flex_flow": null,
            "grid_area": null,
            "grid_auto_columns": null,
            "grid_auto_flow": null,
            "grid_auto_rows": null,
            "grid_column": null,
            "grid_gap": null,
            "grid_row": null,
            "grid_template_areas": null,
            "grid_template_columns": null,
            "grid_template_rows": null,
            "height": null,
            "justify_content": null,
            "justify_items": null,
            "left": null,
            "margin": null,
            "max_height": null,
            "max_width": null,
            "min_height": null,
            "min_width": null,
            "object_fit": null,
            "object_position": null,
            "order": null,
            "overflow": null,
            "overflow_x": null,
            "overflow_y": null,
            "padding": null,
            "right": null,
            "top": null,
            "visibility": null,
            "width": null
          }
        },
        "7d8622e7461c4cb88fe7af422c6c188f": {
          "model_module": "@jupyter-widgets/base",
          "model_module_version": "1.2.0",
          "model_name": "LayoutModel",
          "state": {
            "_model_module": "@jupyter-widgets/base",
            "_model_module_version": "1.2.0",
            "_model_name": "LayoutModel",
            "_view_count": null,
            "_view_module": "@jupyter-widgets/base",
            "_view_module_version": "1.2.0",
            "_view_name": "LayoutView",
            "align_content": null,
            "align_items": null,
            "align_self": null,
            "border": null,
            "bottom": null,
            "display": null,
            "flex": null,
            "flex_flow": null,
            "grid_area": null,
            "grid_auto_columns": null,
            "grid_auto_flow": null,
            "grid_auto_rows": null,
            "grid_column": null,
            "grid_gap": null,
            "grid_row": null,
            "grid_template_areas": null,
            "grid_template_columns": null,
            "grid_template_rows": null,
            "height": null,
            "justify_content": null,
            "justify_items": null,
            "left": null,
            "margin": null,
            "max_height": null,
            "max_width": null,
            "min_height": null,
            "min_width": null,
            "object_fit": null,
            "object_position": null,
            "order": null,
            "overflow": null,
            "overflow_x": null,
            "overflow_y": null,
            "padding": null,
            "right": null,
            "top": null,
            "visibility": null,
            "width": null
          }
        },
        "8236912d3d174a5c92f001d70fb9a7e6": {
          "model_module": "@jupyter-widgets/controls",
          "model_module_version": "1.5.0",
          "model_name": "DescriptionStyleModel",
          "state": {
            "_model_module": "@jupyter-widgets/controls",
            "_model_module_version": "1.5.0",
            "_model_name": "DescriptionStyleModel",
            "_view_count": null,
            "_view_module": "@jupyter-widgets/base",
            "_view_module_version": "1.2.0",
            "_view_name": "StyleView",
            "description_width": ""
          }
        },
        "85e4736500af45ee9acfc8fb50d2a0ef": {
          "model_module": "@jupyter-widgets/controls",
          "model_module_version": "1.5.0",
          "model_name": "DescriptionStyleModel",
          "state": {
            "_model_module": "@jupyter-widgets/controls",
            "_model_module_version": "1.5.0",
            "_model_name": "DescriptionStyleModel",
            "_view_count": null,
            "_view_module": "@jupyter-widgets/base",
            "_view_module_version": "1.2.0",
            "_view_name": "StyleView",
            "description_width": ""
          }
        },
        "88d9e77a8cb449e891116fa741698bbc": {
          "model_module": "@jupyter-widgets/base",
          "model_module_version": "1.2.0",
          "model_name": "LayoutModel",
          "state": {
            "_model_module": "@jupyter-widgets/base",
            "_model_module_version": "1.2.0",
            "_model_name": "LayoutModel",
            "_view_count": null,
            "_view_module": "@jupyter-widgets/base",
            "_view_module_version": "1.2.0",
            "_view_name": "LayoutView",
            "align_content": null,
            "align_items": null,
            "align_self": null,
            "border": null,
            "bottom": null,
            "display": null,
            "flex": null,
            "flex_flow": null,
            "grid_area": null,
            "grid_auto_columns": null,
            "grid_auto_flow": null,
            "grid_auto_rows": null,
            "grid_column": null,
            "grid_gap": null,
            "grid_row": null,
            "grid_template_areas": null,
            "grid_template_columns": null,
            "grid_template_rows": null,
            "height": null,
            "justify_content": null,
            "justify_items": null,
            "left": null,
            "margin": null,
            "max_height": null,
            "max_width": null,
            "min_height": null,
            "min_width": null,
            "object_fit": null,
            "object_position": null,
            "order": null,
            "overflow": null,
            "overflow_x": null,
            "overflow_y": null,
            "padding": null,
            "right": null,
            "top": null,
            "visibility": null,
            "width": null
          }
        },
        "88de34a7ce2945ceb5a8ccf190853117": {
          "model_module": "@jupyter-widgets/base",
          "model_module_version": "1.2.0",
          "model_name": "LayoutModel",
          "state": {
            "_model_module": "@jupyter-widgets/base",
            "_model_module_version": "1.2.0",
            "_model_name": "LayoutModel",
            "_view_count": null,
            "_view_module": "@jupyter-widgets/base",
            "_view_module_version": "1.2.0",
            "_view_name": "LayoutView",
            "align_content": null,
            "align_items": "center",
            "align_self": null,
            "border": null,
            "bottom": null,
            "display": "flex",
            "flex": null,
            "flex_flow": "column",
            "grid_area": null,
            "grid_auto_columns": null,
            "grid_auto_flow": null,
            "grid_auto_rows": null,
            "grid_column": null,
            "grid_gap": null,
            "grid_row": null,
            "grid_template_areas": null,
            "grid_template_columns": null,
            "grid_template_rows": null,
            "height": null,
            "justify_content": null,
            "justify_items": null,
            "left": null,
            "margin": null,
            "max_height": null,
            "max_width": null,
            "min_height": null,
            "min_width": null,
            "object_fit": null,
            "object_position": null,
            "order": null,
            "overflow": null,
            "overflow_x": null,
            "overflow_y": null,
            "padding": null,
            "right": null,
            "top": null,
            "visibility": null,
            "width": "50%"
          }
        },
        "909005680848439e9970433448f863b9": {
          "model_module": "@jupyter-widgets/base",
          "model_module_version": "1.2.0",
          "model_name": "LayoutModel",
          "state": {
            "_model_module": "@jupyter-widgets/base",
            "_model_module_version": "1.2.0",
            "_model_name": "LayoutModel",
            "_view_count": null,
            "_view_module": "@jupyter-widgets/base",
            "_view_module_version": "1.2.0",
            "_view_name": "LayoutView",
            "align_content": null,
            "align_items": null,
            "align_self": null,
            "border": null,
            "bottom": null,
            "display": null,
            "flex": null,
            "flex_flow": null,
            "grid_area": null,
            "grid_auto_columns": null,
            "grid_auto_flow": null,
            "grid_auto_rows": null,
            "grid_column": null,
            "grid_gap": null,
            "grid_row": null,
            "grid_template_areas": null,
            "grid_template_columns": null,
            "grid_template_rows": null,
            "height": null,
            "justify_content": null,
            "justify_items": null,
            "left": null,
            "margin": null,
            "max_height": null,
            "max_width": null,
            "min_height": null,
            "min_width": null,
            "object_fit": null,
            "object_position": null,
            "order": null,
            "overflow": null,
            "overflow_x": null,
            "overflow_y": null,
            "padding": null,
            "right": null,
            "top": null,
            "visibility": null,
            "width": null
          }
        },
        "96e3e1b8c8404db19346858c077f4ab6": {
          "model_module": "@jupyter-widgets/controls",
          "model_module_version": "1.5.0",
          "model_name": "DescriptionStyleModel",
          "state": {
            "_model_module": "@jupyter-widgets/controls",
            "_model_module_version": "1.5.0",
            "_model_name": "DescriptionStyleModel",
            "_view_count": null,
            "_view_module": "@jupyter-widgets/base",
            "_view_module_version": "1.2.0",
            "_view_name": "StyleView",
            "description_width": ""
          }
        },
        "aaf76bd7447044c78e7e8dda11c62072": {
          "model_module": "@jupyter-widgets/controls",
          "model_module_version": "1.5.0",
          "model_name": "HTMLModel",
          "state": {
            "_dom_classes": [],
            "_model_module": "@jupyter-widgets/controls",
            "_model_module_version": "1.5.0",
            "_model_name": "HTMLModel",
            "_view_count": null,
            "_view_module": "@jupyter-widgets/controls",
            "_view_module_version": "1.5.0",
            "_view_name": "HTMLView",
            "description": "",
            "description_tooltip": null,
            "layout": "IPY_MODEL_75df1a8430e34a28baf902ec5a51ddd5",
            "placeholder": "​",
            "style": "IPY_MODEL_b195301f5754442fa426cce0e6240b2e",
            "value": "\n<b>Thank You</b></center>"
          }
        },
        "ae92cbfeecef445d88adfe856d6261db": {
          "model_module": "@jupyter-widgets/controls",
          "model_module_version": "1.5.0",
          "model_name": "PasswordModel",
          "state": {
            "_dom_classes": [],
            "_model_module": "@jupyter-widgets/controls",
            "_model_module_version": "1.5.0",
            "_model_name": "PasswordModel",
            "_view_count": null,
            "_view_module": "@jupyter-widgets/controls",
            "_view_module_version": "1.5.0",
            "_view_name": "PasswordView",
            "continuous_update": true,
            "description": "Token:",
            "description_tooltip": null,
            "disabled": false,
            "layout": "IPY_MODEL_f603ec2da3db4bf3873c59ae0a870ba1",
            "placeholder": "​",
            "style": "IPY_MODEL_85e4736500af45ee9acfc8fb50d2a0ef",
            "value": ""
          }
        },
        "b15b22047bd94859985b33be76547d4c": {
          "model_module": "@jupyter-widgets/controls",
          "model_module_version": "1.5.0",
          "model_name": "HBoxModel",
          "state": {
            "_dom_classes": [],
            "_model_module": "@jupyter-widgets/controls",
            "_model_module_version": "1.5.0",
            "_model_name": "HBoxModel",
            "_view_count": null,
            "_view_module": "@jupyter-widgets/controls",
            "_view_module_version": "1.5.0",
            "_view_name": "HBoxView",
            "box_style": "",
            "children": [
              "IPY_MODEL_147d2955857740f187b0f3cfd020e6b5",
              "IPY_MODEL_073e5e713dc244bca561778cff94af8b",
              "IPY_MODEL_42737f181a304e94bfaa8021b270522a"
            ],
            "layout": "IPY_MODEL_bad80bbf959e4e659b0cc48405beca4c"
          }
        },
        "b195301f5754442fa426cce0e6240b2e": {
          "model_module": "@jupyter-widgets/controls",
          "model_module_version": "1.5.0",
          "model_name": "DescriptionStyleModel",
          "state": {
            "_model_module": "@jupyter-widgets/controls",
            "_model_module_version": "1.5.0",
            "_model_name": "DescriptionStyleModel",
            "_view_count": null,
            "_view_module": "@jupyter-widgets/base",
            "_view_module_version": "1.2.0",
            "_view_name": "StyleView",
            "description_width": ""
          }
        },
        "bad80bbf959e4e659b0cc48405beca4c": {
          "model_module": "@jupyter-widgets/base",
          "model_module_version": "1.2.0",
          "model_name": "LayoutModel",
          "state": {
            "_model_module": "@jupyter-widgets/base",
            "_model_module_version": "1.2.0",
            "_model_name": "LayoutModel",
            "_view_count": null,
            "_view_module": "@jupyter-widgets/base",
            "_view_module_version": "1.2.0",
            "_view_name": "LayoutView",
            "align_content": null,
            "align_items": null,
            "align_self": null,
            "border": null,
            "bottom": null,
            "display": null,
            "flex": null,
            "flex_flow": null,
            "grid_area": null,
            "grid_auto_columns": null,
            "grid_auto_flow": null,
            "grid_auto_rows": null,
            "grid_column": null,
            "grid_gap": null,
            "grid_row": null,
            "grid_template_areas": null,
            "grid_template_columns": null,
            "grid_template_rows": null,
            "height": null,
            "justify_content": null,
            "justify_items": null,
            "left": null,
            "margin": null,
            "max_height": null,
            "max_width": null,
            "min_height": null,
            "min_width": null,
            "object_fit": null,
            "object_position": null,
            "order": null,
            "overflow": null,
            "overflow_x": null,
            "overflow_y": null,
            "padding": null,
            "right": null,
            "top": null,
            "visibility": null,
            "width": null
          }
        },
        "da49ed29a76149c3b000e48609c2d0af": {
          "model_module": "@jupyter-widgets/base",
          "model_module_version": "1.2.0",
          "model_name": "LayoutModel",
          "state": {
            "_model_module": "@jupyter-widgets/base",
            "_model_module_version": "1.2.0",
            "_model_name": "LayoutModel",
            "_view_count": null,
            "_view_module": "@jupyter-widgets/base",
            "_view_module_version": "1.2.0",
            "_view_name": "LayoutView",
            "align_content": null,
            "align_items": null,
            "align_self": null,
            "border": null,
            "bottom": null,
            "display": null,
            "flex": null,
            "flex_flow": null,
            "grid_area": null,
            "grid_auto_columns": null,
            "grid_auto_flow": null,
            "grid_auto_rows": null,
            "grid_column": null,
            "grid_gap": null,
            "grid_row": null,
            "grid_template_areas": null,
            "grid_template_columns": null,
            "grid_template_rows": null,
            "height": null,
            "justify_content": null,
            "justify_items": null,
            "left": null,
            "margin": null,
            "max_height": null,
            "max_width": null,
            "min_height": null,
            "min_width": null,
            "object_fit": null,
            "object_position": null,
            "order": null,
            "overflow": null,
            "overflow_x": null,
            "overflow_y": null,
            "padding": null,
            "right": null,
            "top": null,
            "visibility": null,
            "width": null
          }
        },
        "df073ac7cfdc40269b61f1e3b0369a6c": {
          "model_module": "@jupyter-widgets/controls",
          "model_module_version": "1.5.0",
          "model_name": "DescriptionStyleModel",
          "state": {
            "_model_module": "@jupyter-widgets/controls",
            "_model_module_version": "1.5.0",
            "_model_name": "DescriptionStyleModel",
            "_view_count": null,
            "_view_module": "@jupyter-widgets/base",
            "_view_module_version": "1.2.0",
            "_view_name": "StyleView",
            "description_width": ""
          }
        },
        "ee993518764b4a01980d19fd9fb5812a": {
          "model_module": "@jupyter-widgets/controls",
          "model_module_version": "1.5.0",
          "model_name": "ProgressStyleModel",
          "state": {
            "_model_module": "@jupyter-widgets/controls",
            "_model_module_version": "1.5.0",
            "_model_name": "ProgressStyleModel",
            "_view_count": null,
            "_view_module": "@jupyter-widgets/base",
            "_view_module_version": "1.2.0",
            "_view_name": "StyleView",
            "bar_color": null,
            "description_width": ""
          }
        },
        "f15fce77293a437ea081df14de7f511a": {
          "model_module": "@jupyter-widgets/controls",
          "model_module_version": "1.5.0",
          "model_name": "TextModel",
          "state": {
            "_dom_classes": [],
            "_model_module": "@jupyter-widgets/controls",
            "_model_module_version": "1.5.0",
            "_model_name": "TextModel",
            "_view_count": null,
            "_view_module": "@jupyter-widgets/controls",
            "_view_module_version": "1.5.0",
            "_view_name": "TextView",
            "continuous_update": true,
            "description": "Username:",
            "description_tooltip": null,
            "disabled": false,
            "layout": "IPY_MODEL_909005680848439e9970433448f863b9",
            "placeholder": "​",
            "style": "IPY_MODEL_df073ac7cfdc40269b61f1e3b0369a6c",
            "value": ""
          }
        },
        "f603ec2da3db4bf3873c59ae0a870ba1": {
          "model_module": "@jupyter-widgets/base",
          "model_module_version": "1.2.0",
          "model_name": "LayoutModel",
          "state": {
            "_model_module": "@jupyter-widgets/base",
            "_model_module_version": "1.2.0",
            "_model_name": "LayoutModel",
            "_view_count": null,
            "_view_module": "@jupyter-widgets/base",
            "_view_module_version": "1.2.0",
            "_view_name": "LayoutView",
            "align_content": null,
            "align_items": null,
            "align_self": null,
            "border": null,
            "bottom": null,
            "display": null,
            "flex": null,
            "flex_flow": null,
            "grid_area": null,
            "grid_auto_columns": null,
            "grid_auto_flow": null,
            "grid_auto_rows": null,
            "grid_column": null,
            "grid_gap": null,
            "grid_row": null,
            "grid_template_areas": null,
            "grid_template_columns": null,
            "grid_template_rows": null,
            "height": null,
            "justify_content": null,
            "justify_items": null,
            "left": null,
            "margin": null,
            "max_height": null,
            "max_width": null,
            "min_height": null,
            "min_width": null,
            "object_fit": null,
            "object_position": null,
            "order": null,
            "overflow": null,
            "overflow_x": null,
            "overflow_y": null,
            "padding": null,
            "right": null,
            "top": null,
            "visibility": null,
            "width": null
          }
        },
        "fe7e260243ba4ce58b32169be0f78440": {
          "model_module": "@jupyter-widgets/base",
          "model_module_version": "1.2.0",
          "model_name": "LayoutModel",
          "state": {
            "_model_module": "@jupyter-widgets/base",
            "_model_module_version": "1.2.0",
            "_model_name": "LayoutModel",
            "_view_count": null,
            "_view_module": "@jupyter-widgets/base",
            "_view_module_version": "1.2.0",
            "_view_name": "LayoutView",
            "align_content": null,
            "align_items": null,
            "align_self": null,
            "border": null,
            "bottom": null,
            "display": null,
            "flex": null,
            "flex_flow": null,
            "grid_area": null,
            "grid_auto_columns": null,
            "grid_auto_flow": null,
            "grid_auto_rows": null,
            "grid_column": null,
            "grid_gap": null,
            "grid_row": null,
            "grid_template_areas": null,
            "grid_template_columns": null,
            "grid_template_rows": null,
            "height": null,
            "justify_content": null,
            "justify_items": null,
            "left": null,
            "margin": null,
            "max_height": null,
            "max_width": null,
            "min_height": null,
            "min_width": null,
            "object_fit": null,
            "object_position": null,
            "order": null,
            "overflow": null,
            "overflow_x": null,
            "overflow_y": null,
            "padding": null,
            "right": null,
            "top": null,
            "visibility": null,
            "width": null
          }
        },
        "feb31574f0004a06b06632c66b15e285": {
          "model_module": "@jupyter-widgets/controls",
          "model_module_version": "1.5.0",
          "model_name": "HTMLModel",
          "state": {
            "_dom_classes": [],
            "_model_module": "@jupyter-widgets/controls",
            "_model_module_version": "1.5.0",
            "_model_name": "HTMLModel",
            "_view_count": null,
            "_view_module": "@jupyter-widgets/controls",
            "_view_module_version": "1.5.0",
            "_view_name": "HTMLView",
            "description": "",
            "description_tooltip": null,
            "layout": "IPY_MODEL_da49ed29a76149c3b000e48609c2d0af",
            "placeholder": "​",
            "style": "IPY_MODEL_96e3e1b8c8404db19346858c077f4ab6",
            "value": "<center> <img\nsrc=https://www.kaggle.com/static/images/site-logo.png\nalt='Kaggle'> <br> Create an API token from <a\nhref=\"https://www.kaggle.com/settings/account\" target=\"_blank\">your Kaggle\nsettings page</a> and paste it below along with your Kaggle username. <br> </center>"
          }
        }
      }
    }
  },
  "nbformat": 4,
  "nbformat_minor": 0
}
